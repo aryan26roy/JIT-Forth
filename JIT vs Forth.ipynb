{
 "cells": [
  {
   "cell_type": "code",
   "execution_count": 1,
   "id": "4c5ebdba",
   "metadata": {},
   "outputs": [],
   "source": [
    "import awkward.forth"
   ]
  },
  {
   "cell_type": "code",
   "execution_count": 2,
   "id": "f0dac648",
   "metadata": {},
   "outputs": [],
   "source": [
    "from numba import jit\n",
    "import numba\n",
    "import numpy as np"
   ]
  },
  {
   "cell_type": "code",
   "execution_count": 3,
   "id": "263413e6",
   "metadata": {},
   "outputs": [],
   "source": [
    "import timeit"
   ]
  },
  {
   "cell_type": "code",
   "execution_count": 4,
   "id": "ec5e4c89",
   "metadata": {},
   "outputs": [],
   "source": [
    "@jit(nopython=True, nogil=True)\n",
    "def formula(x):\n",
    "    start = x\n",
    "    start += 123\n",
    "    start *= x\n",
    "    start -= x\n",
    "    start *= x\n",
    "    return start\n",
    "\n",
    "@jit(nopython=True, nogil=True)\n",
    "def f_implicit(x):\n",
    "    out = 0\n",
    "    for _ in range(1000000000):\n",
    "        x = formula(x)\n",
    "        out += x\n",
    "    return out"
   ]
  },
  {
   "cell_type": "code",
   "execution_count": 5,
   "id": "0fd267f4",
   "metadata": {},
   "outputs": [],
   "source": [
    "@jit(nopython=True, nogil=True)\n",
    "def stack_push(stack,elem, cur):\n",
    "    stack[cur] = elem\n",
    "    cur += 1\n",
    "    return cur\n",
    "\n",
    "@jit(nopython=True, nogil=True)\n",
    "def stack_pop(stack, cur):\n",
    "    cur -= 1\n",
    "    return stack[cur], cur\n",
    "\n",
    "@jit(nopython=True, nogil=True)\n",
    "def formula_2(x, stack, cur):\n",
    "    cur = stack_push(stack, x, cur)\n",
    "    cur = stack_push(stack, 123, cur)\n",
    "    a, cur = stack_pop(stack, cur)\n",
    "    b, cur = stack_pop(stack, cur)\n",
    "    cur = stack_push(stack, a + b, cur)\n",
    "    cur = stack_push(stack, x, cur)\n",
    "    a, cur = stack_pop(stack, cur)\n",
    "    b, cur = stack_pop(stack, cur)\n",
    "    cur = stack_push(stack, a * b, cur)\n",
    "    cur = stack_push(stack, x, cur)\n",
    "    a, cur = stack_pop(stack, cur)\n",
    "    b, cur = stack_pop(stack, cur)\n",
    "    cur = stack_push(stack, b - a, cur)\n",
    "    cur = stack_push(stack, x, cur)\n",
    "    a,cur = stack_pop(stack, cur)\n",
    "    b,cur = stack_pop(stack, cur)\n",
    "    cur = stack_push(stack, a * b, cur)\n",
    "    out, cur = stack_pop(stack, cur)\n",
    "    return out\n",
    "\n",
    "@jit(nopython=True, nogil=True)\n",
    "def f_explicit(x):\n",
    "    out = 0\n",
    "    cur = np.uint64(0)\n",
    "    stack = np.zeros(100, dtype=np.int64)\n",
    "    stack_push(stack, out, cur)\n",
    "    for _ in range(1000000000):\n",
    "        x = formula_2(x, stack, cur)\n",
    "        out += x\n",
    "    return out"
   ]
  },
  {
   "cell_type": "code",
   "execution_count": 6,
   "id": "86557acd",
   "metadata": {},
   "outputs": [],
   "source": [
    "forth_code = \"1000000 0 do 100 100 + 100 + 100 * 100 - 100 * drop loop\"\n",
    "machine = awkward.forth.ForthMachine64(forth_code)"
   ]
  },
  {
   "cell_type": "code",
   "execution_count": 7,
   "id": "6ce2c074",
   "metadata": {},
   "outputs": [
    {
     "data": {
      "text/plain": [
       "(3267123752616544224, 3267123752616544224)"
      ]
     },
     "execution_count": 7,
     "metadata": {},
     "output_type": "execute_result"
    }
   ],
   "source": [
    "f_implicit(100), f_explicit(100)"
   ]
  },
  {
   "cell_type": "code",
   "execution_count": 8,
   "id": "a8f35a4f",
   "metadata": {},
   "outputs": [
    {
     "name": "stdout",
     "output_type": "stream",
     "text": [
      "2.02 s ± 23.9 ms per loop (mean ± std. dev. of 7 runs, 1 loop each)\n"
     ]
    }
   ],
   "source": [
    "%%timeit\n",
    "f_implicit(100)"
   ]
  },
  {
   "cell_type": "code",
   "execution_count": 9,
   "id": "5e278a42",
   "metadata": {},
   "outputs": [
    {
     "name": "stdout",
     "output_type": "stream",
     "text": [
      "1.98 s ± 17.6 ms per loop (mean ± std. dev. of 7 runs, 1 loop each)\n"
     ]
    }
   ],
   "source": [
    "%%timeit\n",
    "f_explicit(100)"
   ]
  },
  {
   "cell_type": "code",
   "execution_count": 31,
   "id": "671e883d",
   "metadata": {},
   "outputs": [
    {
     "name": "stdout",
     "output_type": "stream",
     "text": [
      "57.4 ms ± 5.58 ms per loop (mean ± std. dev. of 7 runs, 1 loop each)\n"
     ]
    }
   ],
   "source": [
    "%%timeit\n",
    "machine.run()"
   ]
  },
  {
   "cell_type": "code",
   "execution_count": 10,
   "id": "ae859eed",
   "metadata": {
    "scrolled": false
   },
   "outputs": [
    {
     "name": "stdout",
     "output_type": "stream",
     "text": [
      "\t.text\n",
      "\t.file\t\"<string>\"\n",
      "\t.globl\t_ZN8__main__10f_implicitB2v1B40c8tJTIcFHzwl2ILiXkcBV0KBSgP9CGUhpQmwiCYAEx\n",
      "\t.p2align\t4, 0x90\n",
      "\t.type\t_ZN8__main__10f_implicitB2v1B40c8tJTIcFHzwl2ILiXkcBV0KBSgP9CGUhpQmwiCYAEx,@function\n",
      "_ZN8__main__10f_implicitB2v1B40c8tJTIcFHzwl2ILiXkcBV0KBSgP9CGUhpQmwiCYAEx:\n",
      "\tmovl\t$1000000000, %ecx\n",
      "\txorl\t%eax, %eax\n",
      "\t.p2align\t4, 0x90\n",
      ".LBB0_1:\n",
      "\tleaq\t123(%rdx), %rsi\n",
      "\timulq\t%rdx, %rsi\n",
      "\tsubq\t%rdx, %rsi\n",
      "\timulq\t%rdx, %rsi\n",
      "\taddq\t%rsi, %rax\n",
      "\tleaq\t123(%rsi), %rdx\n",
      "\timulq\t%rsi, %rdx\n",
      "\tsubq\t%rsi, %rdx\n",
      "\timulq\t%rsi, %rdx\n",
      "\taddq\t%rdx, %rax\n",
      "\tleaq\t123(%rdx), %rsi\n",
      "\timulq\t%rdx, %rsi\n",
      "\tsubq\t%rdx, %rsi\n",
      "\timulq\t%rdx, %rsi\n",
      "\taddq\t%rsi, %rax\n",
      "\tleaq\t123(%rsi), %rdx\n",
      "\timulq\t%rsi, %rdx\n",
      "\tsubq\t%rsi, %rdx\n",
      "\timulq\t%rsi, %rdx\n",
      "\taddq\t%rdx, %rax\n",
      "\tleaq\t123(%rdx), %rsi\n",
      "\timulq\t%rdx, %rsi\n",
      "\tsubq\t%rdx, %rsi\n",
      "\timulq\t%rdx, %rsi\n",
      "\taddq\t%rsi, %rax\n",
      "\tleaq\t123(%rsi), %rdx\n",
      "\timulq\t%rsi, %rdx\n",
      "\tsubq\t%rsi, %rdx\n",
      "\timulq\t%rsi, %rdx\n",
      "\taddq\t%rdx, %rax\n",
      "\tleaq\t123(%rdx), %rsi\n",
      "\timulq\t%rdx, %rsi\n",
      "\tsubq\t%rdx, %rsi\n",
      "\timulq\t%rdx, %rsi\n",
      "\taddq\t%rsi, %rax\n",
      "\tleaq\t123(%rsi), %rdx\n",
      "\timulq\t%rsi, %rdx\n",
      "\tsubq\t%rsi, %rdx\n",
      "\timulq\t%rsi, %rdx\n",
      "\taddq\t%rdx, %rax\n",
      "\taddq\t$-8, %rcx\n",
      "\tjne\t.LBB0_1\n",
      "\tmovq\t%rax, (%rdi)\n",
      "\txorl\t%eax, %eax\n",
      "\tretq\n",
      ".Lfunc_end0:\n",
      "\t.size\t_ZN8__main__10f_implicitB2v1B40c8tJTIcFHzwl2ILiXkcBV0KBSgP9CGUhpQmwiCYAEx, .Lfunc_end0-_ZN8__main__10f_implicitB2v1B40c8tJTIcFHzwl2ILiXkcBV0KBSgP9CGUhpQmwiCYAEx\n",
      "\n",
      "\t.globl\t_ZN7cpython8__main__10f_implicitB2v1B40c8tJTIcFHzwl2ILiXkcBV0KBSgP9CGUhpQmwiCYAEx\n",
      "\t.p2align\t4, 0x90\n",
      "\t.type\t_ZN7cpython8__main__10f_implicitB2v1B40c8tJTIcFHzwl2ILiXkcBV0KBSgP9CGUhpQmwiCYAEx,@function\n",
      "_ZN7cpython8__main__10f_implicitB2v1B40c8tJTIcFHzwl2ILiXkcBV0KBSgP9CGUhpQmwiCYAEx:\n",
      "\t.cfi_startproc\n",
      "\tpushq\t%r15\n",
      "\t.cfi_def_cfa_offset 16\n",
      "\tpushq\t%r14\n",
      "\t.cfi_def_cfa_offset 24\n",
      "\tpushq\t%rbx\n",
      "\t.cfi_def_cfa_offset 32\n",
      "\tsubq\t$16, %rsp\n",
      "\t.cfi_def_cfa_offset 48\n",
      "\t.cfi_offset %rbx, -32\n",
      "\t.cfi_offset %r14, -24\n",
      "\t.cfi_offset %r15, -16\n",
      "\tmovq\t%rsi, %rdi\n",
      "\tmovabsq\t$.const.f_implicit, %rsi\n",
      "\tmovabsq\t$PyArg_UnpackTuple, %rbx\n",
      "\tleaq\t8(%rsp), %r8\n",
      "\tmovl\t$1, %edx\n",
      "\tmovl\t$1, %ecx\n",
      "\txorl\t%eax, %eax\n",
      "\tcallq\t*%rbx\n",
      "\tmovq\t$0, (%rsp)\n",
      "\ttestl\t%eax, %eax\n",
      "\tje\t.LBB1_1\n",
      "\tmovabsq\t$_ZN08NumbaEnv8__main__10f_implicitB2v1B40c8tJTIcFHzwl2ILiXkcBV0KBSgP9CGUhpQmwiCYAEx, %rax\n",
      "\tcmpq\t$0, (%rax)\n",
      "\tje\t.LBB1_4\n",
      "\tmovq\t8(%rsp), %rdi\n",
      "\tmovabsq\t$PyNumber_Long, %rax\n",
      "\tcallq\t*%rax\n",
      "\ttestq\t%rax, %rax\n",
      "\tje\t.LBB1_6\n",
      "\tmovq\t%rax, %rbx\n",
      "\tmovabsq\t$PyLong_AsLongLong, %rax\n",
      "\tmovq\t%rbx, %rdi\n",
      "\tcallq\t*%rax\n",
      "\tmovq\t%rax, %r14\n",
      "\tmovabsq\t$Py_DecRef, %rax\n",
      "\tmovq\t%rbx, %rdi\n",
      "\tcallq\t*%rax\n",
      "\tmovabsq\t$PyErr_Occurred, %rax\n",
      "\tcallq\t*%rax\n",
      "\ttestq\t%rax, %rax\n",
      "\tjne\t.LBB1_1\n",
      ".LBB1_9:\n",
      "\tmovabsq\t$PyEval_SaveThread, %rax\n",
      "\tcallq\t*%rax\n",
      "\tmovq\t%rax, %r15\n",
      "\tmovq\t$0, (%rsp)\n",
      "\tmovabsq\t$_ZN8__main__10f_implicitB2v1B40c8tJTIcFHzwl2ILiXkcBV0KBSgP9CGUhpQmwiCYAEx, %rax\n",
      "\tmovq\t%rsp, %rdi\n",
      "\tmovq\t%r14, %rdx\n",
      "\tcallq\t*%rax\n",
      "\tmovq\t(%rsp), %rbx\n",
      "\tmovabsq\t$PyEval_RestoreThread, %rax\n",
      "\tmovq\t%r15, %rdi\n",
      "\tcallq\t*%rax\n",
      "\tmovabsq\t$PyLong_FromLongLong, %rax\n",
      "\tmovq\t%rbx, %rdi\n",
      "\tcallq\t*%rax\n",
      ".LBB1_2:\n",
      "\taddq\t$16, %rsp\n",
      "\t.cfi_def_cfa_offset 32\n",
      "\tpopq\t%rbx\n",
      "\t.cfi_def_cfa_offset 24\n",
      "\tpopq\t%r14\n",
      "\t.cfi_def_cfa_offset 16\n",
      "\tpopq\t%r15\n",
      "\t.cfi_def_cfa_offset 8\n",
      "\tretq\n",
      ".LBB1_4:\n",
      "\t.cfi_def_cfa_offset 48\n",
      "\tmovabsq\t$PyExc_RuntimeError, %rdi\n",
      "\tmovabsq\t$\".const.missing Environment: _ZN08NumbaEnv8__main__10f_implicitB2v1B40c8tJTIcFHzwl2ILiXkcBV0KBSgP9CGUhpQmwiCYAEx\", %rsi\n",
      "\tmovabsq\t$PyErr_SetString, %rax\n",
      "\tcallq\t*%rax\n",
      ".LBB1_1:\n",
      "\txorl\t%eax, %eax\n",
      "\tjmp\t.LBB1_2\n",
      ".LBB1_6:\n",
      "\txorl\t%r14d, %r14d\n",
      "\tmovabsq\t$PyErr_Occurred, %rax\n",
      "\tcallq\t*%rax\n",
      "\ttestq\t%rax, %rax\n",
      "\tje\t.LBB1_9\n",
      "\tjmp\t.LBB1_1\n",
      ".Lfunc_end1:\n",
      "\t.size\t_ZN7cpython8__main__10f_implicitB2v1B40c8tJTIcFHzwl2ILiXkcBV0KBSgP9CGUhpQmwiCYAEx, .Lfunc_end1-_ZN7cpython8__main__10f_implicitB2v1B40c8tJTIcFHzwl2ILiXkcBV0KBSgP9CGUhpQmwiCYAEx\n",
      "\t.cfi_endproc\n",
      "\n",
      "\t.globl\tcfunc._ZN8__main__10f_implicitB2v1B40c8tJTIcFHzwl2ILiXkcBV0KBSgP9CGUhpQmwiCYAEx\n",
      "\t.p2align\t4, 0x90\n",
      "\t.type\tcfunc._ZN8__main__10f_implicitB2v1B40c8tJTIcFHzwl2ILiXkcBV0KBSgP9CGUhpQmwiCYAEx,@function\n",
      "cfunc._ZN8__main__10f_implicitB2v1B40c8tJTIcFHzwl2ILiXkcBV0KBSgP9CGUhpQmwiCYAEx:\n",
      "\tpushq\t%rax\n",
      "\tmovq\t%rdi, %rdx\n",
      "\tmovq\t$0, (%rsp)\n",
      "\tmovabsq\t$_ZN8__main__10f_implicitB2v1B40c8tJTIcFHzwl2ILiXkcBV0KBSgP9CGUhpQmwiCYAEx, %rax\n",
      "\tmovq\t%rsp, %rdi\n",
      "\tcallq\t*%rax\n",
      "\tmovq\t(%rsp), %rax\n",
      "\tpopq\t%rcx\n",
      "\tretq\n",
      ".Lfunc_end2:\n",
      "\t.size\tcfunc._ZN8__main__10f_implicitB2v1B40c8tJTIcFHzwl2ILiXkcBV0KBSgP9CGUhpQmwiCYAEx, .Lfunc_end2-cfunc._ZN8__main__10f_implicitB2v1B40c8tJTIcFHzwl2ILiXkcBV0KBSgP9CGUhpQmwiCYAEx\n",
      "\n",
      "\t.type\t_ZN08NumbaEnv8__main__10f_implicitB2v1B40c8tJTIcFHzwl2ILiXkcBV0KBSgP9CGUhpQmwiCYAEx,@object\n",
      "\t.comm\t_ZN08NumbaEnv8__main__10f_implicitB2v1B40c8tJTIcFHzwl2ILiXkcBV0KBSgP9CGUhpQmwiCYAEx,8,8\n",
      "\t.type\t.const.f_implicit,@object\n",
      "\t.section\t.rodata,\"a\",@progbits\n",
      ".const.f_implicit:\n",
      "\t.asciz\t\"f_implicit\"\n",
      "\t.size\t.const.f_implicit, 11\n",
      "\n",
      "\t.type\t\".const.missing Environment: _ZN08NumbaEnv8__main__10f_implicitB2v1B40c8tJTIcFHzwl2ILiXkcBV0KBSgP9CGUhpQmwiCYAEx\",@object\n",
      "\t.p2align\t4\n",
      "\".const.missing Environment: _ZN08NumbaEnv8__main__10f_implicitB2v1B40c8tJTIcFHzwl2ILiXkcBV0KBSgP9CGUhpQmwiCYAEx\":\n",
      "\t.asciz\t\"missing Environment: _ZN08NumbaEnv8__main__10f_implicitB2v1B40c8tJTIcFHzwl2ILiXkcBV0KBSgP9CGUhpQmwiCYAEx\"\n",
      "\t.size\t\".const.missing Environment: _ZN08NumbaEnv8__main__10f_implicitB2v1B40c8tJTIcFHzwl2ILiXkcBV0KBSgP9CGUhpQmwiCYAEx\", 105\n",
      "\n",
      "\t.type\t_ZN08NumbaEnv8__main__7formulaB2v2B40c8tJTIcFHzwl2ILiXkcBV0KBSgP9CGUhpQmwiCYAEx,@object\n",
      "\t.comm\t_ZN08NumbaEnv8__main__7formulaB2v2B40c8tJTIcFHzwl2ILiXkcBV0KBSgP9CGUhpQmwiCYAEx,8,8\n",
      "\t.section\t\".note.GNU-stack\",\"\",@progbits\n",
      "\n"
     ]
    }
   ],
   "source": [
    "print(list(f_implicit.inspect_asm().values())[0])"
   ]
  },
  {
   "cell_type": "code",
   "execution_count": 10,
   "id": "1547f968",
   "metadata": {},
   "outputs": [
    {
     "data": {
      "text/plain": [
       "[20]"
      ]
     },
     "execution_count": 10,
     "metadata": {},
     "output_type": "execute_result"
    }
   ],
   "source": []
  },
  {
   "cell_type": "code",
   "execution_count": 11,
   "id": "fe96c4a6",
   "metadata": {},
   "outputs": [
    {
     "data": {
      "text/plain": [
       "[0, 10, 38, 0, 10, 0, 10, 44]"
      ]
     },
     "execution_count": 11,
     "metadata": {},
     "output_type": "execute_result"
    }
   ],
   "source": []
  },
  {
   "cell_type": "code",
   "execution_count": null,
   "id": "eade82fc",
   "metadata": {},
   "outputs": [],
   "source": []
  }
 ],
 "metadata": {
  "kernelspec": {
   "display_name": "Python 3 (ipykernel)",
   "language": "python",
   "name": "python3"
  },
  "language_info": {
   "codemirror_mode": {
    "name": "ipython",
    "version": 3
   },
   "file_extension": ".py",
   "mimetype": "text/x-python",
   "name": "python",
   "nbconvert_exporter": "python",
   "pygments_lexer": "ipython3",
   "version": "3.10.6"
  }
 },
 "nbformat": 4,
 "nbformat_minor": 5
}
