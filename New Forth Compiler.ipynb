{
 "cells": [
  {
   "cell_type": "code",
   "execution_count": 1,
   "id": "c89d39cf",
   "metadata": {},
   "outputs": [],
   "source": [
    "from numba import jit\n",
    "import numpy as np\n",
    "import awkward.forth\n",
    "import awkward as ak"
   ]
  },
  {
   "cell_type": "code",
   "execution_count": 9,
   "id": "62ccf785",
   "metadata": {},
   "outputs": [
    {
     "data": {
      "text/plain": [
       "[10, 999, 987]"
      ]
     },
     "execution_count": 9,
     "metadata": {},
     "output_type": "execute_result"
    }
   ],
   "source": [
    "machine = awkward.forth.ForthMachine32(\"10 20 if 999 then 123 if 987 then\") \n",
    "machine.run()\n",
    "machine.stack"
   ]
  },
  {
   "cell_type": "code",
   "execution_count": 10,
   "id": "fb250738",
   "metadata": {},
   "outputs": [
    {
     "data": {
      "text/html": [
       "<pre>[[0, 10, 0, 20, 3, 72, 0, 123, 3, 73],\n",
       " [0, 999],\n",
       " [0, 987]]\n",
       "--------------------------------------\n",
       "type: 3 * var * int64</pre>"
      ],
      "text/plain": [
       "<Array [[0, 10, 0, 20, 3, 72, 0, 123, 3, 73], ...] type='3 * var * int64'>"
      ]
     },
     "execution_count": 10,
     "metadata": {},
     "output_type": "execute_result"
    }
   ],
   "source": [
    "bytecodes = ak.Array(\n",
    "    ak.contents.ListOffsetArray(\n",
    "        ak.index.Index64(machine.bytecodes_offsets),\n",
    "    ak.contents.NumpyArray(machine.bytecodes),\n",
    "    )\n",
    ")\n",
    "bytecodes"
   ]
  },
  {
   "cell_type": "code",
   "execution_count": null,
   "id": "5273bac3",
   "metadata": {},
   "outputs": [],
   "source": []
  },
  {
   "cell_type": "code",
   "execution_count": 104,
   "id": "6e175159",
   "metadata": {},
   "outputs": [],
   "source": [
    "def compile(bytecodes):\n",
    "    pycode = [\"@jit(nopython=True, nogil=True)\\n\", \"def func():\\n\", \"    cur = np.uint64(0)\\n\", \"    stack = np.zeros(100, dtype=np.int64)\\n\"]\n",
    "    for code in bytecodes:\n",
    "        cursor = 0\n",
    "        while cursor < len(code):\n",
    "            if code[cursor] == 0:\n",
    "                cursor += 1\n",
    "                pycode.append(f\"    cur = stack_push(stack, {code[cursor]}, cur)\\n\")\n",
    "                cursor += 1\n",
    "            elif code[cursor] == 38:\n",
    "                pycode.append(f\"    temp, cur = stack_pop(stack, cur)\\n\")\n",
    "                cursor += 1\n",
    "            elif code[cursor] == 44:\n",
    "                pycode.append(f\"    temp1,cur = stack_pop(stack, cur)\\n\")\n",
    "                pycode.append(f\"    temp2, cur = stack_pop(stack, cur)\\n\")\n",
    "                pycode.append(f\"    cur = stack_push(stack, temp1+temp2, cur)\\n\")\n",
    "                cursor += 1\n",
    "            elif code[cursor] == 45:\n",
    "                pycode.append(f\"    temp1,cur = stack_pop(stack, cur)\\n\")\n",
    "                pycode.append(f\"    temp2, cur = stack_pop(stack, cur)\\n\")\n",
    "                pycode.append(f\"    cur = stack_push(stack, temp2-temp1, cur)\\n\")\n",
    "                cursor += 1\n",
    "    return pycode"
   ]
  },
  {
   "cell_type": "code",
   "execution_count": 105,
   "id": "62371fd7",
   "metadata": {},
   "outputs": [],
   "source": [
    "pycode = compile(ak.to_list(bytecodes))\n",
    "pycode.append(\"    print(stack, cur)\\n\")\n",
    "pycode.append(\"func()\")\n",
    "aa = \"\".join(pycode)"
   ]
  },
  {
   "cell_type": "code",
   "execution_count": 106,
   "id": "bb118cc2",
   "metadata": {},
   "outputs": [],
   "source": [
    "@jit(nopython=True, nogil=True)\n",
    "def stack_push(stack,elem, cur):\n",
    "    if cur == len(stack)-1:\n",
    "        raise ValueError(\"Index out of range\")\n",
    "    stack[cur] = elem\n",
    "    cur += 1\n",
    "    return cur\n",
    "\n",
    "@jit(nopython=True, nogil=True)\n",
    "def stack_pop(stack, cur):\n",
    "    if cur == 0:\n",
    "        raise ValueError(\"Index out of range\")\n",
    "    cur -= 1\n",
    "    return stack[cur], cur\n"
   ]
  },
  {
   "cell_type": "code",
   "execution_count": 107,
   "id": "239a4fd3",
   "metadata": {},
   "outputs": [
    {
     "name": "stdout",
     "output_type": "stream",
     "text": [
      "@jit(nopython=True, nogil=True)\n",
      "def func():\n",
      "    cur = np.uint64(0)\n",
      "    stack = np.zeros(100, dtype=np.int64)\n",
      "    cur = stack_push(stack, 10, cur)\n",
      "    temp, cur = stack_pop(stack, cur)\n",
      "    cur = stack_push(stack, 10, cur)\n",
      "    cur = stack_push(stack, 10, cur)\n",
      "    temp1,cur = stack_pop(stack, cur)\n",
      "    temp2, cur = stack_pop(stack, cur)\n",
      "    cur = stack_push(stack, temp1+temp2, cur)\n",
      "    cur = stack_push(stack, 30, cur)\n",
      "    temp1,cur = stack_pop(stack, cur)\n",
      "    temp2, cur = stack_pop(stack, cur)\n",
      "    cur = stack_push(stack, temp2-temp1, cur)\n",
      "    print(stack, cur)\n",
      "func()\n"
     ]
    }
   ],
   "source": [
    "print(aa)"
   ]
  },
  {
   "cell_type": "code",
   "execution_count": 108,
   "id": "9ba41960",
   "metadata": {},
   "outputs": [
    {
     "name": "stdout",
     "output_type": "stream",
     "text": [
      "[-10  30   0   0   0   0   0   0   0   0   0   0   0   0   0   0   0   0\n",
      "   0   0   0   0   0   0   0   0   0   0   0   0   0   0   0   0   0   0\n",
      "   0   0   0   0   0   0   0   0   0   0   0   0   0   0   0   0   0   0\n",
      "   0   0   0   0   0   0   0   0   0   0   0   0   0   0   0   0   0   0\n",
      "   0   0   0   0   0   0   0   0   0   0   0   0   0   0   0   0   0   0\n",
      "   0   0   0   0   0   0   0   0   0   0] 1\n"
     ]
    }
   ],
   "source": [
    "exec(aa)"
   ]
  },
  {
   "cell_type": "code",
   "execution_count": 49,
   "id": "10744da8",
   "metadata": {},
   "outputs": [
    {
     "data": {
      "text/plain": [
       "'@jit(nopython=True, nogil=True)\\ndef func():\\ncur = np.uint64(0)\\nstack = np.zeros(100, dtype=np.int64)\\n    cur = stack.push(stack, 10, cur)\\n    temp, cur = stack.pop(stack, cur)\\\\]\\n    cur = stack.push(stack, 10, cur)\\n    cur = stack.push(stack, 10, cur)\\n    temp1,cur = stack.pop(stack, cur)\\n    temp2, cur = stack.pop(stack, cur)\\n    cur = stack.push(stack, temp1+temp2, cur)\\n'"
      ]
     },
     "execution_count": 49,
     "metadata": {},
     "output_type": "execute_result"
    }
   ],
   "source": [
    "aa"
   ]
  },
  {
   "cell_type": "code",
   "execution_count": null,
   "id": "c22e6e78",
   "metadata": {},
   "outputs": [],
   "source": []
  }
 ],
 "metadata": {
  "kernelspec": {
   "display_name": "Python 3 (ipykernel)",
   "language": "python",
   "name": "python3"
  },
  "language_info": {
   "codemirror_mode": {
    "name": "ipython",
    "version": 3
   },
   "file_extension": ".py",
   "mimetype": "text/x-python",
   "name": "python",
   "nbconvert_exporter": "python",
   "pygments_lexer": "ipython3",
   "version": "3.10.6"
  }
 },
 "nbformat": 4,
 "nbformat_minor": 5
}
